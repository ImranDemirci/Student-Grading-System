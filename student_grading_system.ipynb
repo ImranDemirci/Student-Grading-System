{
  "nbformat": 4,
  "nbformat_minor": 0,
  "metadata": {
    "colab": {
      "name": "student_grading_system.ipynb",
      "provenance": [],
      "authorship_tag": "ABX9TyMyAgc0xORQDHIGZJ+dCTkr",
      "include_colab_link": true
    },
    "kernelspec": {
      "name": "python3",
      "display_name": "Python 3"
    },
    "language_info": {
      "name": "python"
    }
  },
  "cells": [
    {
      "cell_type": "markdown",
      "metadata": {
        "id": "view-in-github",
        "colab_type": "text"
      },
      "source": [
        "<a href=\"https://colab.research.google.com/github/ImranDemirci/Student-grading-system/blob/main/student_grading_system.ipynb\" target=\"_parent\"><img src=\"https://colab.research.google.com/assets/colab-badge.svg\" alt=\"Open In Colab\"/></a>"
      ]
    },
    {
      "cell_type": "code",
      "execution_count": null,
      "metadata": {
        "colab": {
          "base_uri": "https://localhost:8080/"
        },
        "id": "0JHUdwy_umZ9",
        "outputId": "89800f01-6046-45e7-b85a-46c467b28ebb"
      },
      "outputs": [
        {
          "name": "stdout",
          "output_type": "stream",
          "text": [
            "Ders giriniz: İstatistik\n",
            "Isim giriniz: İmran\n",
            "Soyad giriniz: Demirci\n",
            "Okul no giriniz: 358\n",
            "Sinav puani giriniz: 87\n",
            "Yeni bir ogrenci eklemek icin 'y' basin: y\n",
            "Ders giriniz: İstatistik\n",
            "Isim giriniz: Mehmet Ali\n",
            "Soyad giriniz: Yıldız\n",
            "Okul no giriniz: 159\n",
            "Sinav puani giriniz: 73\n",
            "Yeni bir ogrenci eklemek icin 'y' basin: y\n",
            "Ders giriniz: İstatistik\n",
            "Isim giriniz: Eser\n",
            "Soyad giriniz: Rodop\n",
            "Okul no giriniz: 357\n",
            "Sinav puani giriniz: 49\n",
            "Yeni bir ogrenci eklemek icin 'y' basin: f\n"
          ]
        }
      ],
      "source": [
        "import pandas as pd\n",
        "\n",
        "\n",
        "def sozluk(dictionary):\n",
        "    return pd.DataFrame(dictionary)\n",
        "\n",
        "\n",
        "def ogrenci_kayit():\n",
        "    ogrenci_listesi = {'isim': [], 'soyad': [], 'okul_no': [], 'ders': [], 'sinav_puani': [], 'harf_notu': [], 'sonuc': []}\n",
        "    while True:\n",
        "        ders = str(input('Ders giriniz: '))\n",
        "        isim = str(input(\"Isim giriniz: \"))\n",
        "        soyad = str(input(\"Soyad giriniz: \"))\n",
        "        okul_no = int(input(\"Okul no giriniz: \"))\n",
        "        sinav_puani = int(input(\"Sinav puani giriniz: \"))\n",
        "        sistem = input(\"Yeni bir ogrenci eklemek icin 'y' basin: \")\n",
        "\n",
        "        ogrenci_listesi['ders'].append(ders)\n",
        "        ogrenci_listesi['isim'].append(isim)\n",
        "        ogrenci_listesi['soyad'].append(soyad)\n",
        "        ogrenci_listesi['okul_no'].append(okul_no)\n",
        "        ogrenci_listesi['sinav_puani'].append(sinav_puani)\n",
        "        if (sinav_puani >= 85):\n",
        "            ogrenci_listesi['harf_notu'].append('A')\n",
        "            ogrenci_listesi['sonuc'].append('Geçti')\n",
        "        elif (sinav_puani <= 84 and sinav_puani >= 70):\n",
        "            ogrenci_listesi['harf_notu'].append('B')\n",
        "            ogrenci_listesi['sonuc'].append('Geçti')\n",
        "        elif (sinav_puani <= 69 and sinav_puani >= 55):\n",
        "            ogrenci_listesi['harf_notu'].append('C')\n",
        "            ogrenci_listesi['sonuc'].append('Geçti')\n",
        "        elif (sinav_puani <= 59 and sinav_puani >= 50):\n",
        "            ogrenci_listesi['harf_notu'].append('D')\n",
        "            ogrenci_listesi['sonuc'].append('Geçti')\n",
        "        else:\n",
        "            ogrenci_listesi['harf_notu'].append('F')\n",
        "            ogrenci_listesi['sonuc'].append('Kaldı')\n",
        "\n",
        "        if (sistem != 'y'):\n",
        "            break\n",
        "\n",
        "    return sozluk(ogrenci_listesi)\n",
        "\n",
        "data = ogrenci_kayit()\n",
        "\n",
        "writer = pd.ExcelWriter('ogrenci_sistemi.xlsx')\n",
        "\n",
        "data.to_excel(writer)\n",
        "writer.save()"
      ]
    }
  ]
}